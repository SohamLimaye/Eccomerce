{
  "nbformat": 4,
  "nbformat_minor": 0,
  "metadata": {
    "colab": {
      "provenance": [],
      "gpuType": "T4",
      "authorship_tag": "ABX9TyMxC51TuzRN8MpQstw0la8m",
      "include_colab_link": true
    },
    "kernelspec": {
      "name": "python3",
      "display_name": "Python 3"
    },
    "language_info": {
      "name": "python"
    },
    "accelerator": "GPU"
  },
  "cells": [
    {
      "cell_type": "markdown",
      "metadata": {
        "id": "view-in-github",
        "colab_type": "text"
      },
      "source": [
        "<a href=\"https://colab.research.google.com/github/SohamLimaye/Eccomerce/blob/main/Untitled12.ipynb\" target=\"_parent\"><img src=\"https://colab.research.google.com/assets/colab-badge.svg\" alt=\"Open In Colab\"/></a>"
      ]
    },
    {
      "cell_type": "code",
      "source": [
        "pip install codecarbon\n"
      ],
      "metadata": {
        "colab": {
          "base_uri": "https://localhost:8080/"
        },
        "id": "VwNNvyxWgVEi",
        "outputId": "00b318db-dc35-4999-ea58-c57c25015ac6"
      },
      "execution_count": 7,
      "outputs": [
        {
          "output_type": "stream",
          "name": "stdout",
          "text": [
            "Requirement already satisfied: codecarbon in /usr/local/lib/python3.10/dist-packages (2.3.4)\n",
            "Requirement already satisfied: arrow in /usr/local/lib/python3.10/dist-packages (from codecarbon) (1.3.0)\n",
            "Requirement already satisfied: pandas in /usr/local/lib/python3.10/dist-packages (from codecarbon) (1.5.3)\n",
            "Requirement already satisfied: pynvml in /usr/local/lib/python3.10/dist-packages (from codecarbon) (11.5.0)\n",
            "Requirement already satisfied: requests in /usr/local/lib/python3.10/dist-packages (from codecarbon) (2.31.0)\n",
            "Requirement already satisfied: psutil in /usr/local/lib/python3.10/dist-packages (from codecarbon) (5.9.5)\n",
            "Requirement already satisfied: py-cpuinfo in /usr/local/lib/python3.10/dist-packages (from codecarbon) (9.0.0)\n",
            "Requirement already satisfied: rapidfuzz in /usr/local/lib/python3.10/dist-packages (from codecarbon) (3.7.0)\n",
            "Requirement already satisfied: click in /usr/local/lib/python3.10/dist-packages (from codecarbon) (8.1.7)\n",
            "Requirement already satisfied: prometheus-client in /usr/local/lib/python3.10/dist-packages (from codecarbon) (0.20.0)\n",
            "Requirement already satisfied: python-dateutil>=2.7.0 in /usr/local/lib/python3.10/dist-packages (from arrow->codecarbon) (2.8.2)\n",
            "Requirement already satisfied: types-python-dateutil>=2.8.10 in /usr/local/lib/python3.10/dist-packages (from arrow->codecarbon) (2.9.0.20240316)\n",
            "Requirement already satisfied: pytz>=2020.1 in /usr/local/lib/python3.10/dist-packages (from pandas->codecarbon) (2023.4)\n",
            "Requirement already satisfied: numpy>=1.21.0 in /usr/local/lib/python3.10/dist-packages (from pandas->codecarbon) (1.25.2)\n",
            "Requirement already satisfied: charset-normalizer<4,>=2 in /usr/local/lib/python3.10/dist-packages (from requests->codecarbon) (3.3.2)\n",
            "Requirement already satisfied: idna<4,>=2.5 in /usr/local/lib/python3.10/dist-packages (from requests->codecarbon) (3.6)\n",
            "Requirement already satisfied: urllib3<3,>=1.21.1 in /usr/local/lib/python3.10/dist-packages (from requests->codecarbon) (2.0.7)\n",
            "Requirement already satisfied: certifi>=2017.4.17 in /usr/local/lib/python3.10/dist-packages (from requests->codecarbon) (2024.2.2)\n",
            "Requirement already satisfied: six>=1.5 in /usr/local/lib/python3.10/dist-packages (from python-dateutil>=2.7.0->arrow->codecarbon) (1.16.0)\n"
          ]
        },
        {
          "output_type": "stream",
          "name": "stderr",
          "text": [
            "[codecarbon INFO @ 08:40:02] Energy consumed for RAM : 0.000871 kWh. RAM Power : 4.753046035766602 W\n",
            "[codecarbon INFO @ 08:40:02] Energy consumed for all GPUs : 0.001850 kWh. Total GPU Power : 9.942964875167235 W\n",
            "[codecarbon INFO @ 08:40:02] Energy consumed for all CPUs : 0.007791 kWh. Total CPU Power : 42.5 W\n",
            "[codecarbon INFO @ 08:40:02] 0.010511 kWh of electricity used since the beginning.\n"
          ]
        }
      ]
    },
    {
      "cell_type": "code",
      "source": [
        "from codecarbon import EmissionsTracker\n",
        "\n",
        "# Create an instance of the EmissionsTracker\n",
        "tracker = EmissionsTracker(\n",
        "    project_name= \"Ecommerceapp\",  # Provide your project name\n",
        "    api_key= \"VI0vbyRWE4mh2\",  # Provide your CodeCarbon API key\n",
        ")"
      ],
      "metadata": {
        "colab": {
          "base_uri": "https://localhost:8080/"
        },
        "id": "xFJ9PmoIWsih",
        "outputId": "4d2de75a-b4f1-4efb-f7cd-f0c5603c2816"
      },
      "execution_count": 12,
      "outputs": [
        {
          "output_type": "stream",
          "name": "stderr",
          "text": [
            "[codecarbon INFO @ 08:41:13] [setup] RAM Tracking...\n",
            "[codecarbon INFO @ 08:41:13] [setup] GPU Tracking...\n",
            "[codecarbon INFO @ 08:41:13] Tracking Nvidia GPU via pynvml\n",
            "[codecarbon INFO @ 08:41:13] [setup] CPU Tracking...\n",
            "[codecarbon WARNING @ 08:41:13] No CPU tracking mode found. Falling back on CPU constant mode.\n",
            "[codecarbon WARNING @ 08:41:15] We saw that you have a Intel(R) Xeon(R) CPU @ 2.00GHz but we don't know it. Please contact us.\n",
            "[codecarbon INFO @ 08:41:15] CPU Model on constant consumption mode: Intel(R) Xeon(R) CPU @ 2.00GHz\n",
            "[codecarbon INFO @ 08:41:15] >>> Tracker's metadata:\n",
            "[codecarbon INFO @ 08:41:15]   Platform system: Linux-6.1.58+-x86_64-with-glibc2.35\n",
            "[codecarbon INFO @ 08:41:15]   Python version: 3.10.12\n",
            "[codecarbon INFO @ 08:41:15]   CodeCarbon version: 2.3.4\n",
            "[codecarbon INFO @ 08:41:15]   Available RAM : 12.675 GB\n",
            "[codecarbon INFO @ 08:41:15]   CPU count: 2\n",
            "[codecarbon INFO @ 08:41:15]   CPU model: Intel(R) Xeon(R) CPU @ 2.00GHz\n",
            "[codecarbon INFO @ 08:41:15]   GPU count: 1\n",
            "[codecarbon INFO @ 08:41:15]   GPU model: 1 x Tesla T4\n"
          ]
        }
      ]
    },
    {
      "cell_type": "code",
      "source": [
        "# Start tracking emissions\n",
        "tracker.start()\n",
        "\n",
        "# Your existing code goes here\n",
        "class Product:\n",
        "    def __init__(self, id, name, price):\n",
        "        self.id = id\n",
        "        self.name = name\n",
        "        self.price = price\n",
        "\n",
        "\n",
        "class ShoppingCart:\n",
        "    def __init__(self):\n",
        "        self.products = []\n",
        "\n",
        "    def add_product(self, product):\n",
        "        self.products.append(product)\n",
        "\n",
        "    def remove_product(self, product):\n",
        "        self.products.remove(product)\n",
        "\n",
        "    def calculate_total(self):\n",
        "        total = 0\n",
        "        for product in self.products:\n",
        "            total += product.price\n",
        "        return total\n",
        "\n",
        "    def display_cart(self):\n",
        "        if not self.products:\n",
        "            print(\"Your cart is empty.\")\n",
        "        else:\n",
        "            print(\"Your cart contains:\")\n",
        "            for product in self.products:\n",
        "                print(f\"- {product.name} (${product.price})\")\n",
        "\n",
        "    def remove_from_cart(self, product):\n",
        "        if product in self.products:\n",
        "            self.remove_product(product)\n",
        "            print(f\"Removed {product.name} from the cart.\")\n",
        "        else:\n",
        "            print(f\"{product.name} is not in your cart.\")\n",
        "\n",
        "\n",
        "class Customer:\n",
        "    def __init__(self, name, email):\n",
        "        self.name = name\n",
        "        self.email = email\n",
        "        self.shopping_cart = ShoppingCart()\n",
        "\n",
        "    def add_to_cart(self, product):\n",
        "        self.shopping_cart.add_product(product)\n",
        "\n",
        "    def remove_from_cart(self, product):\n",
        "        self.shopping_cart.remove_from_cart(product)\n",
        "\n",
        "    def checkout(self):\n",
        "        total = self.shopping_cart.calculate_total()\n",
        "        print(f\"Total amount to pay: {total}\")\n",
        "\n",
        "\n",
        "# Sample usage\n",
        "product1 = Product(1, \"iPhone\", 1000)\n",
        "product2 = Product(2, \"Headphones\", 100)\n",
        "product3 = Product(3, \"Keyboard\", 50)\n",
        "product4 = Product(4, \"Laptop Mac Book\", 2000)\n",
        "product5 = Product(5, \"Dell Laptop\", 1500)\n",
        "product6 = Product(6, \"Ipad\", 1250)\n",
        "\n",
        "\n",
        "\n",
        "customer = Customer(\"John Doe\", \"john@example.com\")\n",
        "\n",
        "print(\"Welcome to the e-commerce store!\")\n",
        "print(\"Here are some available products:\")\n",
        "\n",
        "products = [product1, product2, product3, product4, product5, product6]\n",
        "\n",
        "for product in products:\n",
        "    print(f\"{product.id}. {product.name} - ${product.price}\")\n",
        "\n",
        "while True:\n",
        "    print(\"\\nSelect an option from below:\")\n",
        "    print(\"1. Add a product to the cart\")\n",
        "    print(\"2. Display cart\")\n",
        "    print(\"3. Remove a product from the cart\")\n",
        "    print(\"4. Checkout\")\n",
        "    user_input = input(\"Enter option number: \")\n",
        "\n",
        "    if user_input == '1':\n",
        "        print(\"\\nSelect a product to add to the cart:\")\n",
        "        product_id = int(input(\"Product ID: \"))\n",
        "        selected_product = next((product for product in products if product.id == product_id), None)\n",
        "        if selected_product:\n",
        "            customer.add_to_cart(selected_product)\n",
        "            print(f\"Added {selected_product.name} to the cart.\")\n",
        "        else:\n",
        "            print(\"Invalid product ID. Please try again.\")\n",
        "\n",
        "    elif user_input == '2':\n",
        "        customer.shopping_cart.display_cart()\n",
        "\n",
        "    elif user_input == '3':\n",
        "        print(\"\\nSelect a product to remove from the cart:\")\n",
        "        product_id = int(input(\"Product ID: \"))\n",
        "        selected_product = next((product for product in customer.shopping_cart.products if product.id == product_id), None)\n",
        "        if selected_product:\n",
        "            customer.remove_from_cart(selected_product)\n",
        "        else:\n",
        "            print(\"Invalid product ID. Please try again.\")\n",
        "\n",
        "    elif user_input == '4':\n",
        "        customer.checkout()\n",
        "        break\n",
        "\n",
        "    else:\n",
        "        print(\"Invalid option. Please try again.\")\n",
        "\n",
        "# Stop tracking emissions\n",
        "tracker.stop()"
      ],
      "metadata": {
        "colab": {
          "base_uri": "https://localhost:8080/"
        },
        "id": "wJRXv3bfWv25",
        "outputId": "abd1e2e3-8205-4e16-a9fc-f59d82302a47"
      },
      "execution_count": 17,
      "outputs": [
        {
          "output_type": "stream",
          "name": "stderr",
          "text": [
            "[codecarbon WARNING @ 08:46:10] Already started tracking\n"
          ]
        },
        {
          "output_type": "stream",
          "name": "stdout",
          "text": [
            "Welcome to the e-commerce store!\n",
            "Here are some available products:\n",
            "1. iPhone - $1000\n",
            "2. Headphones - $100\n",
            "3. Keyboard - $50\n",
            "4. Laptop Mac Book - $2000\n",
            "5. Dell Laptop - $1500\n",
            "6. Ipad - $1250\n",
            "\n",
            "Select an option from below:\n",
            "1. Add a product to the cart\n",
            "2. Display cart\n",
            "3. Remove a product from the cart\n",
            "4. Checkout\n",
            "Enter option number: 2\n",
            "Your cart is empty.\n",
            "\n",
            "Select an option from below:\n",
            "1. Add a product to the cart\n",
            "2. Display cart\n",
            "3. Remove a product from the cart\n",
            "4. Checkout\n"
          ]
        },
        {
          "output_type": "stream",
          "name": "stderr",
          "text": [
            "[codecarbon INFO @ 08:46:17] Energy consumed for RAM : 0.001366 kWh. RAM Power : 4.753046035766602 W\n",
            "[codecarbon INFO @ 08:46:17] Energy consumed for all GPUs : 0.002883 kWh. Total GPU Power : 9.851587141558278 W\n",
            "[codecarbon INFO @ 08:46:17] Energy consumed for all CPUs : 0.012217 kWh. Total CPU Power : 42.5 W\n",
            "[codecarbon INFO @ 08:46:17] 0.016466 kWh of electricity used since the beginning.\n"
          ]
        },
        {
          "output_type": "stream",
          "name": "stdout",
          "text": [
            "Enter option number: 1\n",
            "\n",
            "Select a product to add to the cart:\n",
            "Product ID: 2\n",
            "Added Headphones to the cart.\n",
            "\n",
            "Select an option from below:\n",
            "1. Add a product to the cart\n",
            "2. Display cart\n",
            "3. Remove a product from the cart\n",
            "4. Checkout\n"
          ]
        },
        {
          "output_type": "stream",
          "name": "stderr",
          "text": [
            "[codecarbon INFO @ 08:46:32] Energy consumed for RAM : 0.001385 kWh. RAM Power : 4.753046035766602 W\n",
            "[codecarbon INFO @ 08:46:32] Energy consumed for all GPUs : 0.002924 kWh. Total GPU Power : 9.913752644193487 W\n",
            "[codecarbon INFO @ 08:46:32] Energy consumed for all CPUs : 0.012394 kWh. Total CPU Power : 42.5 W\n",
            "[codecarbon INFO @ 08:46:32] 0.016704 kWh of electricity used since the beginning.\n"
          ]
        },
        {
          "output_type": "stream",
          "name": "stdout",
          "text": [
            "Enter option number: 2\n",
            "Your cart contains:\n",
            "- Headphones ($100)\n",
            "\n",
            "Select an option from below:\n",
            "1. Add a product to the cart\n",
            "2. Display cart\n",
            "3. Remove a product from the cart\n",
            "4. Checkout\n"
          ]
        },
        {
          "output_type": "stream",
          "name": "stderr",
          "text": [
            "[codecarbon INFO @ 08:46:47] Energy consumed for RAM : 0.001405 kWh. RAM Power : 4.753046035766602 W\n",
            "[codecarbon INFO @ 08:46:47] Energy consumed for all GPUs : 0.002966 kWh. Total GPU Power : 9.937873933277881 W\n",
            "[codecarbon INFO @ 08:46:47] Energy consumed for all CPUs : 0.012571 kWh. Total CPU Power : 42.5 W\n",
            "[codecarbon INFO @ 08:46:47] 0.016942 kWh of electricity used since the beginning.\n"
          ]
        },
        {
          "output_type": "stream",
          "name": "stdout",
          "text": [
            "Enter option number: 1\n",
            "\n",
            "Select a product to add to the cart:\n"
          ]
        },
        {
          "output_type": "stream",
          "name": "stderr",
          "text": [
            "[codecarbon INFO @ 08:47:02] Energy consumed for RAM : 0.001425 kWh. RAM Power : 4.753046035766602 W\n",
            "[codecarbon INFO @ 08:47:02] Energy consumed for all GPUs : 0.003007 kWh. Total GPU Power : 9.971147357906453 W\n",
            "[codecarbon INFO @ 08:47:02] Energy consumed for all CPUs : 0.012748 kWh. Total CPU Power : 42.5 W\n",
            "[codecarbon INFO @ 08:47:02] 0.017180 kWh of electricity used since the beginning.\n"
          ]
        },
        {
          "output_type": "stream",
          "name": "stdout",
          "text": [
            "Product ID: 3\n",
            "Added Keyboard to the cart.\n",
            "\n",
            "Select an option from below:\n",
            "1. Add a product to the cart\n",
            "2. Display cart\n",
            "3. Remove a product from the cart\n",
            "4. Checkout\n",
            "Enter option number: 2\n",
            "Your cart contains:\n",
            "- Headphones ($100)\n",
            "- Keyboard ($50)\n",
            "\n",
            "Select an option from below:\n",
            "1. Add a product to the cart\n",
            "2. Display cart\n",
            "3. Remove a product from the cart\n",
            "4. Checkout\n"
          ]
        },
        {
          "output_type": "stream",
          "name": "stderr",
          "text": [
            "[codecarbon INFO @ 08:47:17] Energy consumed for RAM : 0.001445 kWh. RAM Power : 4.753046035766602 W\n",
            "[codecarbon INFO @ 08:47:17] Energy consumed for all GPUs : 0.003049 kWh. Total GPU Power : 10.049031042583186 W\n",
            "[codecarbon INFO @ 08:47:17] Energy consumed for all CPUs : 0.012925 kWh. Total CPU Power : 42.5 W\n",
            "[codecarbon INFO @ 08:47:17] 0.017419 kWh of electricity used since the beginning.\n"
          ]
        },
        {
          "name": "stdout",
          "output_type": "stream",
          "text": [
            "Enter option number: 4\n"
          ]
        },
        {
          "output_type": "stream",
          "name": "stderr",
          "text": [
            "[codecarbon WARNING @ 08:47:22] Tracker already stopped !\n",
            "[codecarbon WARNING @ 08:47:22] Background scheduler didn't run for a long period (305s), results might be inaccurate\n",
            "[codecarbon INFO @ 08:47:22] Energy consumed for RAM : 0.000442 kWh. RAM Power : 4.753046035766602 W\n",
            "[codecarbon INFO @ 08:47:22] Energy consumed for all GPUs : 0.000922 kWh. Total GPU Power : 9.919775232929013 W\n",
            "[codecarbon INFO @ 08:47:22] Energy consumed for all CPUs : 0.003951 kWh. Total CPU Power : 42.5 W\n",
            "[codecarbon INFO @ 08:47:22] 0.005315 kWh of electricity used since the beginning.\n"
          ]
        },
        {
          "output_type": "stream",
          "name": "stdout",
          "text": [
            "Total amount to pay: 150\n"
          ]
        },
        {
          "output_type": "execute_result",
          "data": {
            "text/plain": [
              "0.0018560094262011241"
            ]
          },
          "metadata": {},
          "execution_count": 17
        }
      ]
    }
  ]
}